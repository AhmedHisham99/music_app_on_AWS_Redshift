{
 "cells": [
  {
   "cell_type": "code",
   "execution_count": 1,
   "metadata": {
    "editable": true
   },
   "outputs": [],
   "source": [
    "# import libraries for sdk \"Infrastructure as code\" and for parsing the configertion file .\n",
    "import boto3\n",
    "import configparser"
   ]
  },
  {
   "cell_type": "code",
   "execution_count": 21,
   "metadata": {
    "editable": true
   },
   "outputs": [],
   "source": [
    "config = configparser.ConfigParser()\n",
    "config.read(\"dwh.cfg\")\n",
    "\n",
    "KEY                    = config.get('AWS','KEY')\n",
    "SECRET                 = config.get('AWS','SECRET')\n",
    "\n",
    "DWH_CLUSTER_TYPE       = config.get(\"DWH\",\"DWH_CLUSTER_TYPE\")\n",
    "DWH_NUM_NODES          = config.get(\"DWH\",\"DWH_NUM_NODES\")\n",
    "DWH_NODE_TYPE          = config.get(\"DWH\",\"DWH_NODE_TYPE\")\n",
    "\n",
    "DWH_CLUSTER_IDENTIFIER = config.get(\"DWH\",\"DWH_CLUSTER_IDENTIFIER\")\n",
    "DWH_DB                 = config.get(\"DWH\",\"DWH_DB\")\n",
    "DWH_DB_USER            = config.get(\"DWH\",\"DWH_DB_USER\")\n",
    "DWH_DB_PASSWORD        = config.get(\"DWH\",\"DWH_DB_PASSWORD\")\n",
    "DWH_PORT               = config.get(\"DWH\",\"DWH_PORT\")\n",
    "\n",
    "DWH_IAM_ROLE_NAME      = [config.get(\"DWH\", \"DWH_IAM_ROLE_NAME\")]"
   ]
  },
  {
   "cell_type": "code",
   "execution_count": 24,
   "metadata": {
    "editable": true
   },
   "outputs": [],
   "source": [
    "redshift = boto3.client(\n",
    "    \"redshift\",\n",
    "    region_name                     = \"us-west-2\",\n",
    "    aws_access_key_id               = config.get(\"AWS\", \"KEY\"),\n",
    "    aws_secret_access_key           = config.get(\"AWS\", \"SECRET\")\n",
    ")\n",
    "\n",
    "response = redshift.create_cluster(\n",
    "    ClusterIdentifier               = DWH_CLUSTER_IDENTIFIER,\n",
    "    MasterUsername                  = config.get(\"DWH\", \"DWH_DB_USER\"),\n",
    "    MasterUserPassword              = config.get(\"DWH\", \"DWH_DB_PASSWORD\"),\n",
    "    NodeType                        = config.get(\"DWH\", \"DWH_NODE_TYPE\"),\n",
    "    ClusterType                     = config.get(\"DWH\", \"DWH_CLUSTER_TYPE\"),\n",
    "    NumberOfNodes                   = int(config.get(\"DWH\", \"DWH_NUM_NODES\")),\n",
    "    IamRoles                        = [config.get(\"IAM_ROLE\", \"ARN\")],\n",
    "    DBName                          = \"dwh_project3\"\n",
    ")"
   ]
  },
  {
   "cell_type": "code",
   "execution_count": 4,
   "metadata": {
    "editable": true
   },
   "outputs": [],
   "source": [
    "# establish ETL on the redshift cluster\n",
    "# create tables(create_tables.py) and start transfer data from staging to redshift cluster (etl.py)\n",
    "%run create_tables.py\n",
    "%run etl.py"
   ]
  },
  {
   "cell_type": "code",
   "execution_count": 7,
   "metadata": {
    "editable": true
   },
   "outputs": [
    {
     "name": "stdout",
     "output_type": "stream",
     "text": [
      "[(8056,)]\n",
      "[(14896,)]\n"
     ]
    }
   ],
   "source": [
    "# create cursor to check values of staging rows (if it loads correctly or not )\n",
    "conn = psycopg2.connect(\"host={} dbname={} user={} password={} port={}\".format(*config['CUR'].values()))\n",
    "cur = conn.cursor()\n",
    "# check rows of events staging file\n",
    "cur.execute(\"select count(*) from events_staging\")\n",
    "print(cur.fetchall())\n",
    "# check rows of songs staging file\n",
    "cur.execute(\"select count(*) from songs_staging\")\n",
    "print(cur.fetchall())"
   ]
  },
  {
   "cell_type": "code",
   "execution_count": 10,
   "metadata": {
    "editable": true
   },
   "outputs": [
    {
     "data": {
      "text/plain": [
       "{'Cluster': {'ClusterIdentifier': 'dwhcluster21west',\n",
       "  'NodeType': 'dc2.large',\n",
       "  'ClusterStatus': 'deleting',\n",
       "  'MasterUsername': 'dwhuser',\n",
       "  'DBName': 'dwh_project3',\n",
       "  'Endpoint': {'Address': 'dwhcluster21west.cvlw03muivfx.us-west-2.redshift.amazonaws.com',\n",
       "   'Port': 5439},\n",
       "  'ClusterCreateTime': datetime.datetime(2022, 10, 21, 20, 31, 49, 183000, tzinfo=tzlocal()),\n",
       "  'AutomatedSnapshotRetentionPeriod': 1,\n",
       "  'ClusterSecurityGroups': [],\n",
       "  'VpcSecurityGroups': [{'VpcSecurityGroupId': 'sg-04a6af88313441527',\n",
       "    'Status': 'active'}],\n",
       "  'ClusterParameterGroups': [{'ParameterGroupName': 'default.redshift-1.0',\n",
       "    'ParameterApplyStatus': 'in-sync'}],\n",
       "  'ClusterSubnetGroupName': 'default',\n",
       "  'VpcId': 'vpc-026d79a0229140013',\n",
       "  'AvailabilityZone': 'us-west-2c',\n",
       "  'PreferredMaintenanceWindow': 'sun:11:30-sun:12:00',\n",
       "  'PendingModifiedValues': {},\n",
       "  'ClusterVersion': '1.0',\n",
       "  'AllowVersionUpgrade': True,\n",
       "  'NumberOfNodes': 4,\n",
       "  'PubliclyAccessible': True,\n",
       "  'Encrypted': False,\n",
       "  'Tags': [],\n",
       "  'EnhancedVpcRouting': False,\n",
       "  'IamRoles': [{'IamRoleArn': 'arn:aws:iam::132876768277:role/IAMROLE',\n",
       "    'ApplyStatus': 'in-sync'}],\n",
       "  'MaintenanceTrackName': 'current'},\n",
       " 'ResponseMetadata': {'RequestId': 'beb740db-5476-4961-96ca-02f46bc0386f',\n",
       "  'HTTPStatusCode': 200,\n",
       "  'HTTPHeaders': {'x-amzn-requestid': 'beb740db-5476-4961-96ca-02f46bc0386f',\n",
       "   'content-type': 'text/xml',\n",
       "   'content-length': '2733',\n",
       "   'vary': 'accept-encoding',\n",
       "   'date': 'Fri, 21 Oct 2022 21:23:07 GMT'},\n",
       "  'RetryAttempts': 0}}"
      ]
     },
     "execution_count": 10,
     "metadata": {},
     "output_type": "execute_result"
    }
   ],
   "source": [
    "# Delete the redshift cluster to avoid extra costs and relase the space and resources.\n",
    "redshift.delete_cluster(ClusterIdentifier=DWH_CLUSTER_IDENTIFIER, SkipFinalClusterSnapshot=True)"
   ]
  },
  {
   "cell_type": "code",
   "execution_count": null,
   "metadata": {
    "editable": true
   },
   "outputs": [],
   "source": []
  }
 ],
 "metadata": {
  "kernelspec": {
   "display_name": "Python 3",
   "language": "python",
   "name": "python3"
  },
  "language_info": {
   "codemirror_mode": {
    "name": "ipython",
    "version": 3
   },
   "file_extension": ".py",
   "mimetype": "text/x-python",
   "name": "python",
   "nbconvert_exporter": "python",
   "pygments_lexer": "ipython3",
   "version": "3.6.3"
  }
 },
 "nbformat": 4,
 "nbformat_minor": 4
}
